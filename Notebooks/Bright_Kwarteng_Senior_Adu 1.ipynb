version https://git-lfs.github.com/spec/v1
oid sha256:a886411bc67dcdbf3409abaed1edffb92d5e105b28efdee5cf7db50a90801e3b
size 3104586
